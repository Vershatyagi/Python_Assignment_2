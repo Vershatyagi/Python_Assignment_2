{
 "cells": [
  {
   "cell_type": "markdown",
   "metadata": {
    "ExecuteTime": {
     "end_time": "2020-07-25T19:08:27.229580Z",
     "start_time": "2020-07-25T19:08:27.213585Z"
    }
   },
   "source": [
    " ## 1. Create the below pattern using nested for loop in Python.\n",
    "\n",
    "   *\n",
    "   * *\n",
    "   * * *\n",
    "   * * * *\n",
    "   * * * * *\n",
    "   * * * *\n",
    "   * * *\n",
    "   * *\n",
    "   *"
   ]
  },
  {
   "cell_type": "code",
   "execution_count": 1,
   "metadata": {
    "ExecuteTime": {
     "end_time": "2020-07-26T07:27:09.946097Z",
     "start_time": "2020-07-26T07:27:09.913078Z"
    }
   },
   "outputs": [
    {
     "name": "stdout",
     "output_type": "stream",
     "text": [
      "*\n",
      "**\n",
      "***\n",
      "****\n",
      "*****\n",
      "****\n",
      "***\n",
      "**\n",
      "*\n"
     ]
    }
   ],
   "source": [
    "list1=[1,2,3,4,5,4,3,2,1]\n",
    "str1=\"*\"\n",
    "\n",
    "for i in list1:\n",
    "    print(str1*i)"
   ]
  },
  {
   "cell_type": "markdown",
   "metadata": {},
   "source": [
    "## Using a user defined function"
   ]
  },
  {
   "cell_type": "code",
   "execution_count": 2,
   "metadata": {
    "ExecuteTime": {
     "end_time": "2020-07-26T07:27:17.471809Z",
     "start_time": "2020-07-26T07:27:17.462805Z"
    }
   },
   "outputs": [],
   "source": [
    "def pattern(n):\n",
    "    a=int((n+1)/2+1)\n",
    "    c=0\n",
    "    for i in range(1,a):\n",
    "        print(\"*\"*i)\n",
    "    for i in range(a,n+1):\n",
    "        if i!=n:\n",
    "            c=c+2\n",
    "            b=i-c\n",
    "            print(\"*\"*b)\n",
    "        else:\n",
    "            print(\"*\"*1)\n",
    "        "
   ]
  },
  {
   "cell_type": "code",
   "execution_count": 3,
   "metadata": {
    "ExecuteTime": {
     "end_time": "2020-07-26T07:27:20.186841Z",
     "start_time": "2020-07-26T07:27:20.180837Z"
    }
   },
   "outputs": [
    {
     "name": "stdout",
     "output_type": "stream",
     "text": [
      "*\n",
      "**\n",
      "***\n",
      "****\n",
      "*****\n",
      "******\n",
      "*******\n",
      "********\n",
      "*******\n",
      "******\n",
      "*****\n",
      "****\n",
      "***\n",
      "**\n",
      "*\n"
     ]
    }
   ],
   "source": [
    "pattern(15)"
   ]
  },
  {
   "cell_type": "markdown",
   "metadata": {},
   "source": [
    "## 2. Write a Python program to reverse a word after accepting the input from the user."
   ]
  },
  {
   "cell_type": "code",
   "execution_count": 3,
   "metadata": {
    "ExecuteTime": {
     "end_time": "2020-07-26T07:32:01.121207Z",
     "start_time": "2020-07-26T07:31:58.488430Z"
    }
   },
   "outputs": [
    {
     "name": "stdout",
     "output_type": "stream",
     "text": [
      "input word:versha\n",
      "ahsrev"
     ]
    }
   ],
   "source": [
    "a=input(\"input word:\")\n",
    "l1=[i for i in a]\n",
    "for i in reversed(l1):\n",
    "    print(i,end=\"\")"
   ]
  },
  {
   "cell_type": "code",
   "execution_count": null,
   "metadata": {},
   "outputs": [],
   "source": []
  },
  {
   "cell_type": "code",
   "execution_count": null,
   "metadata": {},
   "outputs": [],
   "source": []
  }
 ],
 "metadata": {
  "kernelspec": {
   "display_name": "Python 3",
   "language": "python",
   "name": "python3"
  },
  "language_info": {
   "codemirror_mode": {
    "name": "ipython",
    "version": 3
   },
   "file_extension": ".py",
   "mimetype": "text/x-python",
   "name": "python",
   "nbconvert_exporter": "python",
   "pygments_lexer": "ipython3",
   "version": "3.7.6"
  },
  "varInspector": {
   "cols": {
    "lenName": 16,
    "lenType": 16,
    "lenVar": 40
   },
   "kernels_config": {
    "python": {
     "delete_cmd_postfix": "",
     "delete_cmd_prefix": "del ",
     "library": "var_list.py",
     "varRefreshCmd": "print(var_dic_list())"
    },
    "r": {
     "delete_cmd_postfix": ") ",
     "delete_cmd_prefix": "rm(",
     "library": "var_list.r",
     "varRefreshCmd": "cat(var_dic_list()) "
    }
   },
   "types_to_exclude": [
    "module",
    "function",
    "builtin_function_or_method",
    "instance",
    "_Feature"
   ],
   "window_display": false
  }
 },
 "nbformat": 4,
 "nbformat_minor": 4
}
